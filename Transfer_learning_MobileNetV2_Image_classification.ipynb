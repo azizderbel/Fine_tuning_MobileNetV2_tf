{
  "nbformat": 4,
  "nbformat_minor": 0,
  "metadata": {
    "colab": {
      "provenance": [],
      "authorship_tag": "ABX9TyPz6JDvORGzA+XIdj3aVsbH"
    },
    "kernelspec": {
      "name": "python3",
      "display_name": "Python 3"
    },
    "language_info": {
      "name": "python"
    },
    "accelerator": "GPU",
    "gpuClass": "standard"
  },
  "cells": [
    {
      "cell_type": "code",
      "execution_count": null,
      "metadata": {
        "id": "OjsqbN8Mn7yN"
      },
      "outputs": [],
      "source": [
        "import matplotlib.pyplot as plt\n",
        "import numpy as np\n",
        "import os\n",
        "import tensorflow as tf\n",
        "import shutil"
      ]
    },
    {
      "cell_type": "markdown",
      "source": [
        "## Import data"
      ],
      "metadata": {
        "id": "UWxzmkOyoawA"
      }
    },
    {
      "cell_type": "code",
      "source": [
        "_URL = 'https://storage.googleapis.com/mledu-datasets/cats_and_dogs_filtered.zip'\n",
        "path_to_zip = tf.keras.utils.get_file('cats_and_dogs_filtered.zip',\n",
        "                                      origin=_URL,\n",
        "                                      extract=True,\n",
        "                                      cache_dir='.',\n",
        "                                      cache_subdir='')\n",
        "PATH = os.path.join(os.path.dirname(path_to_zip), 'cats_and_dogs_filtered')"
      ],
      "metadata": {
        "colab": {
          "base_uri": "https://localhost:8080/"
        },
        "id": "erSqP9ESos4k",
        "outputId": "74ac454e-44fa-481c-cf9e-9612b99ee48c"
      },
      "execution_count": null,
      "outputs": [
        {
          "output_type": "stream",
          "name": "stdout",
          "text": [
            "Downloading data from https://storage.googleapis.com/mledu-datasets/cats_and_dogs_filtered.zip\n",
            "68606236/68606236 [==============================] - 2s 0us/step\n"
          ]
        }
      ]
    },
    {
      "cell_type": "code",
      "source": [
        "train_dir = os.path.join(PATH, 'train')\n",
        "validation_dir = os.path.join(PATH, 'validation')\n",
        "\n",
        "BATCH_SIZE = 32\n",
        "IMG_SIZE = (160, 160)"
      ],
      "metadata": {
        "id": "-Gpn6E-dtmzd"
      },
      "execution_count": null,
      "outputs": []
    },
    {
      "cell_type": "code",
      "source": [
        "#remove_dir = os.path.join('.', 'cats_and_dogs_filtered')\n",
        "#shutil.rmtree(remove_dir)"
      ],
      "metadata": {
        "id": "1Wxe4zbrrvEI"
      },
      "execution_count": null,
      "outputs": []
    },
    {
      "cell_type": "markdown",
      "source": [
        "## Load Data"
      ],
      "metadata": {
        "id": "mu-cnPFwttZC"
      }
    },
    {
      "cell_type": "code",
      "source": [
        "raw_train_dataset = tf.keras.utils.image_dataset_from_directory(train_dir,\n",
        "                                                            shuffle=True,\n",
        "                                                            batch_size=BATCH_SIZE,\n",
        "                                                            image_size=IMG_SIZE)\n",
        "raw_validation_dataset = tf.keras.utils.image_dataset_from_directory(validation_dir,\n",
        "                                                                 shuffle=True,\n",
        "                                                                 batch_size=BATCH_SIZE,\n",
        "                                                                 image_size=IMG_SIZE)"
      ],
      "metadata": {
        "id": "xGcAGOK4ujBa"
      },
      "execution_count": null,
      "outputs": []
    },
    {
      "cell_type": "code",
      "source": [
        "class_names = raw_train_dataset.class_names"
      ],
      "metadata": {
        "id": "18OLsGt6u7Dj"
      },
      "execution_count": null,
      "outputs": []
    },
    {
      "cell_type": "code",
      "source": [
        "val_batches = tf.data.experimental.cardinality(raw_validation_dataset)\n",
        "raw_test_dataset = raw_validation_dataset.take(val_batches // 5) # extract 20% for the test set\n",
        "raw_validation_dataset = raw_validation_dataset.skip(val_batches // 5) # take the remaining 80%"
      ],
      "metadata": {
        "id": "6m1g281mvSev"
      },
      "execution_count": null,
      "outputs": []
    },
    {
      "cell_type": "code",
      "source": [
        "print('Number of traning batches: %d' % tf.data.experimental.cardinality(raw_train_dataset))\n",
        "print('Number of validation batches: %d' % tf.data.experimental.cardinality(raw_validation_dataset))\n",
        "print('Number of test batches: %d' % tf.data.experimental.cardinality(raw_test_dataset))"
      ],
      "metadata": {
        "id": "klvLnsamwHGr"
      },
      "execution_count": null,
      "outputs": []
    },
    {
      "cell_type": "markdown",
      "source": [
        "## Define Data augmentation strategy"
      ],
      "metadata": {
        "id": "NNzC2-82xpyH"
      }
    },
    {
      "cell_type": "code",
      "source": [
        "data_augmentation = tf.keras.Sequential([\n",
        "  tf.keras.layers.RandomFlip('horizontal'),\n",
        "  tf.keras.layers.RandomRotation(0.2),\n",
        "])"
      ],
      "metadata": {
        "id": "PVwYBtPlxuRt"
      },
      "execution_count": null,
      "outputs": []
    },
    {
      "cell_type": "code",
      "source": [
        "for image, _ in raw_train_dataset.take(1):\n",
        "  plt.figure(figsize=(10, 10))\n",
        "  first_image = image[0]\n",
        "  for i in range(9):\n",
        "    ax = plt.subplot(3, 3, i + 1)\n",
        "    augmented_image = data_augmentation(tf.expand_dims(first_image, 0))\n",
        "    plt.imshow(augmented_image[0] / 255)\n",
        "    plt.axis('off')"
      ],
      "metadata": {
        "id": "XbV9wfpHx0xH"
      },
      "execution_count": null,
      "outputs": []
    },
    {
      "cell_type": "markdown",
      "source": [
        "## Load the base Model or the feature extractor"
      ],
      "metadata": {
        "id": "uwAWyoRPyiDZ"
      }
    },
    {
      "cell_type": "code",
      "source": [
        "base_model = tf.keras.applications.MobileNetV2(input_shape=IMG_SIZE + (3,),\n",
        "                                               include_top=False, # ingnore classification layer, from the bottelneck layer downward\n",
        "                                               weights='imagenet') # load the trained weights\n",
        "#This feature extractor converts each 160x160x3 image into a 5x5x1280 block of features"
      ],
      "metadata": {
        "id": "O3yV2p3Zym6p"
      },
      "execution_count": null,
      "outputs": []
    },
    {
      "cell_type": "code",
      "source": [
        "base_model.trainable = False"
      ],
      "metadata": {
        "id": "30W_tDDqz2wg"
      },
      "execution_count": null,
      "outputs": []
    },
    {
      "cell_type": "code",
      "source": [
        "base_model.summary()"
      ],
      "metadata": {
        "id": "TfeL5GDg06VS"
      },
      "execution_count": null,
      "outputs": []
    },
    {
      "cell_type": "markdown",
      "source": [
        "## Build and Compile the model"
      ],
      "metadata": {
        "id": "DLPKsECB3UTe"
      }
    },
    {
      "cell_type": "code",
      "source": [
        "inputs = tf.keras.Input(shape=(160, 160, 3))\n",
        "x = data_augmentation(inputs)\n",
        "x = tf.keras.applications.mobilenet_v2.preprocess_input(x)\n",
        "x = base_model(x, training=False)\n",
        "x = tf.keras.layers.GlobalAveragePooling2D()(x)\n",
        "x = tf.keras.layers.Dropout(0.2)(x)\n",
        "outputs = tf.keras.layers.Dense(1)(x)\n",
        "model = tf.keras.Model(inputs, outputs)\n",
        "model.compile(\n",
        "      loss= tf.keras.losses.BinaryCrossentropy(from_logits=True),\n",
        "      optimizer= tf.keras.optimizers.Adam(learning_rate=0.0001),\n",
        "      metrics=['accuracy']\n",
        "  )\n",
        "history = model.fit(raw_train_dataset,\n",
        "                    epochs=10,\n",
        "                    validation_data=raw_validation_dataset)"
      ],
      "metadata": {
        "colab": {
          "base_uri": "https://localhost:8080/"
        },
        "id": "hrwvgs5577cc",
        "outputId": "ec5ac9c8-ee97-4146-d566-4c5fed027b8f"
      },
      "execution_count": null,
      "outputs": [
        {
          "output_type": "stream",
          "name": "stderr",
          "text": [
            "WARNING:tensorflow:Using a while_loop for converting RngReadAndSkip cause there is no registered converter for this op.\n",
            "WARNING:tensorflow:Using a while_loop for converting Bitcast cause there is no registered converter for this op.\n",
            "WARNING:tensorflow:Using a while_loop for converting Bitcast cause there is no registered converter for this op.\n",
            "WARNING:tensorflow:Using a while_loop for converting StatelessRandomUniformV2 cause there is no registered converter for this op.\n",
            "WARNING:tensorflow:Using a while_loop for converting ImageProjectiveTransformV3 cause there is no registered converter for this op.\n"
          ]
        },
        {
          "output_type": "stream",
          "name": "stdout",
          "text": [
            "Epoch 1/10\n"
          ]
        },
        {
          "output_type": "stream",
          "name": "stderr",
          "text": [
            "WARNING:tensorflow:Using a while_loop for converting RngReadAndSkip cause there is no registered converter for this op.\n",
            "WARNING:tensorflow:Using a while_loop for converting Bitcast cause there is no registered converter for this op.\n",
            "WARNING:tensorflow:Using a while_loop for converting Bitcast cause there is no registered converter for this op.\n",
            "WARNING:tensorflow:Using a while_loop for converting StatelessRandomUniformV2 cause there is no registered converter for this op.\n",
            "WARNING:tensorflow:Using a while_loop for converting ImageProjectiveTransformV3 cause there is no registered converter for this op.\n",
            "WARNING:tensorflow:Using a while_loop for converting RngReadAndSkip cause there is no registered converter for this op.\n",
            "WARNING:tensorflow:Using a while_loop for converting Bitcast cause there is no registered converter for this op.\n",
            "WARNING:tensorflow:Using a while_loop for converting Bitcast cause there is no registered converter for this op.\n",
            "WARNING:tensorflow:Using a while_loop for converting StatelessRandomUniformV2 cause there is no registered converter for this op.\n",
            "WARNING:tensorflow:Using a while_loop for converting ImageProjectiveTransformV3 cause there is no registered converter for this op.\n"
          ]
        },
        {
          "output_type": "stream",
          "name": "stdout",
          "text": [
            "63/63 [==============================] - 22s 163ms/step - loss: 0.5882 - accuracy: 0.6505 - val_loss: 0.4277 - val_accuracy: 0.8020\n",
            "Epoch 2/10\n",
            "63/63 [==============================] - 9s 146ms/step - loss: 0.4438 - accuracy: 0.7810 - val_loss: 0.3193 - val_accuracy: 0.8936\n",
            "Epoch 3/10\n",
            "63/63 [==============================] - 8s 129ms/step - loss: 0.3572 - accuracy: 0.8375 - val_loss: 0.2446 - val_accuracy: 0.9369\n",
            "Epoch 4/10\n",
            "63/63 [==============================] - 11s 164ms/step - loss: 0.3013 - accuracy: 0.8760 - val_loss: 0.2024 - val_accuracy: 0.9468\n",
            "Epoch 5/10\n",
            "63/63 [==============================] - 9s 145ms/step - loss: 0.2756 - accuracy: 0.8785 - val_loss: 0.1824 - val_accuracy: 0.9468\n",
            "Epoch 6/10\n",
            "63/63 [==============================] - 10s 151ms/step - loss: 0.2433 - accuracy: 0.9065 - val_loss: 0.1532 - val_accuracy: 0.9616\n",
            "Epoch 7/10\n",
            "63/63 [==============================] - 12s 179ms/step - loss: 0.2299 - accuracy: 0.8995 - val_loss: 0.1419 - val_accuracy: 0.9641\n",
            "Epoch 8/10\n",
            "63/63 [==============================] - 10s 161ms/step - loss: 0.2135 - accuracy: 0.9150 - val_loss: 0.1264 - val_accuracy: 0.9678\n",
            "Epoch 9/10\n",
            "63/63 [==============================] - 11s 168ms/step - loss: 0.1917 - accuracy: 0.9245 - val_loss: 0.1206 - val_accuracy: 0.9678\n",
            "Epoch 10/10\n",
            "63/63 [==============================] - 12s 188ms/step - loss: 0.1931 - accuracy: 0.9210 - val_loss: 0.1101 - val_accuracy: 0.9691\n"
          ]
        }
      ]
    },
    {
      "cell_type": "markdown",
      "source": [
        "## Plot training results (learning curves)"
      ],
      "metadata": {
        "id": "o2RL1SnH8NVO"
      }
    },
    {
      "cell_type": "code",
      "source": [
        "def plot_learning_curves(history):\n",
        "  acc = history.history['accuracy']\n",
        "  val_acc = history.history['val_accuracy']\n",
        "\n",
        "  loss = history.history['loss']\n",
        "  val_loss = history.history['val_loss']\n",
        "\n",
        "  plt.figure(figsize=(8, 8))\n",
        "  plt.subplot(2, 1, 1)\n",
        "  plt.plot(acc, label='Training Accuracy')\n",
        "  plt.plot(val_acc, label='Validation Accuracy')\n",
        "  plt.legend(loc='lower right')\n",
        "  plt.ylabel('Accuracy')\n",
        "  plt.ylim([min(plt.ylim()),1])\n",
        "  plt.title('Training and Validation Accuracy')\n",
        "\n",
        "  plt.subplot(2, 1, 2)\n",
        "  plt.plot(loss, label='Training Loss')\n",
        "  plt.plot(val_loss, label='Validation Loss')\n",
        "  plt.legend(loc='upper right')\n",
        "  plt.ylabel('Cross Entropy')\n",
        "  plt.ylim([0,1.0])\n",
        "  plt.title('Training and Validation Loss')\n",
        "  plt.xlabel('epoch')\n",
        "  plt.show()\n",
        "plot_learning_curves(history)"
      ],
      "metadata": {
        "colab": {
          "base_uri": "https://localhost:8080/",
          "height": 513
        },
        "id": "CPKdOp3K8a1d",
        "outputId": "c9ac2dcd-e214-4ac8-800c-1cd1aa74be72"
      },
      "execution_count": null,
      "outputs": [
        {
          "output_type": "display_data",
          "data": {
            "text/plain": [
              "<Figure size 576x576 with 2 Axes>"
            ],
            "image/png": "[encoded data removed]"
          },
          "metadata": {
            "needs_background": "light"
          }
        }
      ]
    },
    {
      "cell_type": "markdown",
      "source": [
        "## Evaluate the model"
      ],
      "metadata": {
        "id": "g9qqV-ZK9CDY"
      }
    },
    {
      "cell_type": "code",
      "source": [
        "test_loss, test_accuracy = model.evaluate(raw_test_dataset)\n",
        "print(\"Final loss: {:.2f}\".format(test_loss))\n",
        "print(\"Final accuracy: {:.2f}\".format(test_accuracy))"
      ],
      "metadata": {
        "colab": {
          "base_uri": "https://localhost:8080/"
        },
        "id": "8CTYdPZe9b6n",
        "outputId": "5bdb6d41-66b8-429e-8fa6-5d0ef4ca6b29"
      },
      "execution_count": null,
      "outputs": [
        {
          "output_type": "stream",
          "name": "stdout",
          "text": [
            "6/6 [==============================] - 1s 50ms/step - loss: 0.1070 - accuracy: 0.9635\n",
            "Final loss: 0.11\n",
            "Final accuracy: 0.96\n"
          ]
        }
      ]
    },
    {
      "cell_type": "markdown",
      "source": [
        "## Fine-tuning"
      ],
      "metadata": {
        "id": "T0S08Mmw-7Q6"
      }
    },
    {
      "cell_type": "code",
      "source": [
        "base_model.trainable = True\n",
        "# Freeze all the layers before the `fine_tune_at` layer\n",
        "for layer in base_model.layers[:100]:\n",
        "  layer.trainable = False"
      ],
      "metadata": {
        "id": "FIlv8tkt-9_3"
      },
      "execution_count": null,
      "outputs": []
    },
    {
      "cell_type": "code",
      "source": [
        "model.compile(loss=tf.keras.losses.BinaryCrossentropy(from_logits=True),\n",
        "              optimizer = tf.keras.optimizers.RMSprop(learning_rate=0.0001/10),\n",
        "              metrics=['accuracy'])"
      ],
      "metadata": {
        "id": "HN6NwKIF_fzj"
      },
      "execution_count": null,
      "outputs": []
    },
    {
      "cell_type": "code",
      "source": [
        "model.summary()"
      ],
      "metadata": {
        "id": "GeOzXM9H_mCU"
      },
      "execution_count": null,
      "outputs": []
    },
    {
      "cell_type": "code",
      "source": [
        "fine_tune_epochs = 10\n",
        "total_epochs =  10 + fine_tune_epochs\n",
        "\n",
        "history_fine = model.fit(raw_train_dataset,\n",
        "                         epochs=total_epochs,\n",
        "                         initial_epoch=history.epoch[-1],\n",
        "                         validation_data=raw_validation_dataset)"
      ],
      "metadata": {
        "colab": {
          "base_uri": "https://localhost:8080/"
        },
        "id": "xDD4QVO5AJmZ",
        "outputId": "0cc1ce62-80a4-4ba1-ee04-4bd4f233d40d"
      },
      "execution_count": null,
      "outputs": [
        {
          "output_type": "stream",
          "name": "stdout",
          "text": [
            "Epoch 10/20\n"
          ]
        },
        {
          "output_type": "stream",
          "name": "stderr",
          "text": [
            "WARNING:tensorflow:Using a while_loop for converting RngReadAndSkip cause there is no registered converter for this op.\n",
            "WARNING:tensorflow:Using a while_loop for converting Bitcast cause there is no registered converter for this op.\n",
            "WARNING:tensorflow:Using a while_loop for converting Bitcast cause there is no registered converter for this op.\n",
            "WARNING:tensorflow:Using a while_loop for converting StatelessRandomUniformV2 cause there is no registered converter for this op.\n",
            "WARNING:tensorflow:Using a while_loop for converting ImageProjectiveTransformV3 cause there is no registered converter for this op.\n",
            "WARNING:tensorflow:Using a while_loop for converting RngReadAndSkip cause there is no registered converter for this op.\n",
            "WARNING:tensorflow:Using a while_loop for converting Bitcast cause there is no registered converter for this op.\n",
            "WARNING:tensorflow:Using a while_loop for converting Bitcast cause there is no registered converter for this op.\n",
            "WARNING:tensorflow:Using a while_loop for converting StatelessRandomUniformV2 cause there is no registered converter for this op.\n",
            "WARNING:tensorflow:Using a while_loop for converting ImageProjectiveTransformV3 cause there is no registered converter for this op.\n"
          ]
        },
        {
          "output_type": "stream",
          "name": "stdout",
          "text": [
            "63/63 [==============================] - 21s 155ms/step - loss: 0.1437 - accuracy: 0.9415 - val_loss: 0.0560 - val_accuracy: 0.9802\n",
            "Epoch 11/20\n",
            "63/63 [==============================] - 10s 152ms/step - loss: 0.1126 - accuracy: 0.9550 - val_loss: 0.0494 - val_accuracy: 0.9839\n",
            "Epoch 12/20\n",
            "63/63 [==============================] - 10s 150ms/step - loss: 0.1068 - accuracy: 0.9600 - val_loss: 0.0391 - val_accuracy: 0.9839\n",
            "Epoch 13/20\n",
            "63/63 [==============================] - 10s 151ms/step - loss: 0.0903 - accuracy: 0.9590 - val_loss: 0.0409 - val_accuracy: 0.9889\n",
            "Epoch 14/20\n",
            "63/63 [==============================] - 10s 151ms/step - loss: 0.0844 - accuracy: 0.9640 - val_loss: 0.0375 - val_accuracy: 0.9864\n",
            "Epoch 15/20\n",
            "63/63 [==============================] - 9s 137ms/step - loss: 0.0735 - accuracy: 0.9715 - val_loss: 0.0354 - val_accuracy: 0.9851\n",
            "Epoch 16/20\n",
            "63/63 [==============================] - 10s 149ms/step - loss: 0.0786 - accuracy: 0.9695 - val_loss: 0.0361 - val_accuracy: 0.9864\n",
            "Epoch 17/20\n",
            "63/63 [==============================] - 10s 149ms/step - loss: 0.0727 - accuracy: 0.9740 - val_loss: 0.0298 - val_accuracy: 0.9876\n",
            "Epoch 18/20\n",
            "63/63 [==============================] - 10s 148ms/step - loss: 0.0595 - accuracy: 0.9750 - val_loss: 0.0351 - val_accuracy: 0.9839\n",
            "Epoch 19/20\n",
            "63/63 [==============================] - 10s 149ms/step - loss: 0.0662 - accuracy: 0.9740 - val_loss: 0.0353 - val_accuracy: 0.9851\n",
            "Epoch 20/20\n",
            "63/63 [==============================] - 10s 157ms/step - loss: 0.0602 - accuracy: 0.9745 - val_loss: 0.0333 - val_accuracy: 0.9864\n"
          ]
        }
      ]
    },
    {
      "cell_type": "code",
      "source": [
        "plot_learning_curves(history_fine)"
      ],
      "metadata": {
        "colab": {
          "base_uri": "https://localhost:8080/",
          "height": 513
        },
        "id": "rCHkoktXAzfb",
        "outputId": "a771694e-b3e0-4a65-9f10-fc7ca388cbe5"
      },
      "execution_count": null,
      "outputs": [
        {
          "output_type": "display_data",
          "data": {
            "text/plain": [
              "<Figure size 576x576 with 2 Axes>"
            ],
            "image/png": "[encoded data removed]"
          },
          "metadata": {
            "needs_background": "light"
          }
        }
      ]
    }
  ]
}